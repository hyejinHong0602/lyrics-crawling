{
 "cells": [
  {
   "cell_type": "markdown",
   "metadata": {},
   "source": [
    "## 가사 데이터셋 수집"
   ]
  },
  {
   "cell_type": "code",
   "execution_count": 75,
   "metadata": {},
   "outputs": [],
   "source": [
    "from bs4 import BeautifulSoup\n",
    "from selenium import webdriver\n",
    "driver = webdriver.Chrome('chromedriver.exe')\n",
    "import pandas as pd"
   ]
  },
  {
   "cell_type": "code",
   "execution_count": 157,
   "metadata": {},
   "outputs": [],
   "source": [
    "title=[]\n",
    "singer=[]\n",
    "songId=[]"
   ]
  },
  {
   "cell_type": "markdown",
   "metadata": {},
   "source": [
    "### 1. 제목 "
   ]
  },
  {
   "cell_type": "code",
   "execution_count": 158,
   "metadata": {},
   "outputs": [],
   "source": [
    "driver.get(\"https://www.melon.com/artist/song.htm?artistId=532029#params%5BlistType%5D=A&params%5BorderBy%5D=ISSUE_DATE&params%5BartistId%5D=532029&po=pageObj&startIndex=51\")"
   ]
  },
  {
   "cell_type": "code",
   "execution_count": 159,
   "metadata": {},
   "outputs": [],
   "source": [
    "tmp=driver.find_elements_by_class_name('fc_gray')\n",
    "\n",
    "# title=[]\n",
    "for i in tmp:\n",
    "    title.append(i.text)\n"
   ]
  },
  {
   "cell_type": "code",
   "execution_count": 160,
   "metadata": {},
   "outputs": [
    {
     "data": {
      "text/plain": [
       "14"
      ]
     },
     "execution_count": 160,
     "metadata": {},
     "output_type": "execute_result"
    }
   ],
   "source": [
    "len(title)"
   ]
  },
  {
   "cell_type": "code",
   "execution_count": 161,
   "metadata": {},
   "outputs": [
    {
     "data": {
      "text/plain": [
       "['Aqua Man',\n",
       " 'Nike Shoes (Feat. Dynamic Duo)',\n",
       " '진절머리 (Feat. Okasian & Dok2)',\n",
       " 'Boogie On & On',\n",
       " 'Aqua Man',\n",
       " 'Summer Madness (Feat. The Quiett)',\n",
       " \"I'll Be Back\",\n",
       " 'Profile (Feat. The Quiett & Dok2)',\n",
       " 'If I Die Tomorrow',\n",
       " '(Bonus Track) Always Awake',\n",
       " '진절머리 (Feat. Okasian & Dok2)',\n",
       " \"I'll Be Back\",\n",
       " 'Speech 04. (Relation)',\n",
       " 'Illionaire Way']"
      ]
     },
     "execution_count": 161,
     "metadata": {},
     "output_type": "execute_result"
    }
   ],
   "source": [
    "title"
   ]
  },
  {
   "cell_type": "code",
   "execution_count": 162,
   "metadata": {},
   "outputs": [],
   "source": [
    "# singer=[]\n",
    "tmp=driver.find_elements_by_id('artistName')\n",
    "\n",
    "# singer=[]\n",
    "for i in tmp:\n",
    "    singer.append(i.text)\n"
   ]
  },
  {
   "cell_type": "code",
   "execution_count": 163,
   "metadata": {
    "scrolled": true
   },
   "outputs": [
    {
     "data": {
      "text/plain": [
       "14"
      ]
     },
     "execution_count": 163,
     "metadata": {},
     "output_type": "execute_result"
    }
   ],
   "source": [
    "len(singer)"
   ]
  },
  {
   "cell_type": "markdown",
   "metadata": {},
   "source": [
    "### 2. 곡마다 id가 있음. 리스트에 한번에 넣고 주소 뒤에 바꿔서 가사 가져오기"
   ]
  },
  {
   "cell_type": "code",
   "execution_count": 164,
   "metadata": {},
   "outputs": [],
   "source": [
    "tmp=driver.find_elements_by_class_name('fc_gray')\n",
    "\n",
    "# songId=[]\n",
    "for i in range(len(tmp)):\n",
    "    if tmp[i].get_attribute('href')[-10] == ',':\n",
    "        songId.append(tmp[i].get_attribute('href')[-9:-2])\n",
    "    else:\n",
    "        songId.append(tmp[i].get_attribute('href')[-10:-2])\n",
    "    "
   ]
  },
  {
   "cell_type": "code",
   "execution_count": 165,
   "metadata": {},
   "outputs": [
    {
     "data": {
      "text/plain": [
       "14"
      ]
     },
     "execution_count": 165,
     "metadata": {},
     "output_type": "execute_result"
    }
   ],
   "source": [
    "len(songId)"
   ]
  },
  {
   "cell_type": "markdown",
   "metadata": {},
   "source": [
    "### 3. 가사 가져오기"
   ]
  },
  {
   "cell_type": "code",
   "execution_count": 166,
   "metadata": {},
   "outputs": [],
   "source": [
    "lyrics=[]\n",
    "for i in range(len(songId)):\n",
    "    driver.get(\"https://www.melon.com/song/detail.htm?songId=\"+songId[i])\n",
    "    try:\n",
    "        tmp=driver.find_element_by_id('d_video_summary')\n",
    "        lyrics.append(tmp.text)\n",
    "    except:\n",
    "        lyrics.append('EMPTY')"
   ]
  },
  {
   "cell_type": "code",
   "execution_count": 167,
   "metadata": {
    "scrolled": true
   },
   "outputs": [
    {
     "data": {
      "text/plain": [
       "14"
      ]
     },
     "execution_count": 167,
     "metadata": {},
     "output_type": "execute_result"
    }
   ],
   "source": [
    "len(lyrics)"
   ]
  },
  {
   "cell_type": "markdown",
   "metadata": {},
   "source": [
    "### 4. 파일로 저장하기"
   ]
  },
  {
   "cell_type": "code",
   "execution_count": 168,
   "metadata": {
    "scrolled": true
   },
   "outputs": [],
   "source": [
    "LYRIC=[]\n",
    "for i in lyrics:\n",
    "    LYRIC.append(i.replace(\"\\n\",\"\"))\n",
    "df2=pd.DataFrame({\"제목\":title,\"가수\":singer,\"가사\":LYRIC})"
   ]
  },
  {
   "cell_type": "code",
   "execution_count": 169,
   "metadata": {},
   "outputs": [
    {
     "data": {
      "text/html": [
       "<div>\n",
       "<style scoped>\n",
       "    .dataframe tbody tr th:only-of-type {\n",
       "        vertical-align: middle;\n",
       "    }\n",
       "\n",
       "    .dataframe tbody tr th {\n",
       "        vertical-align: top;\n",
       "    }\n",
       "\n",
       "    .dataframe thead th {\n",
       "        text-align: right;\n",
       "    }\n",
       "</style>\n",
       "<table border=\"1\" class=\"dataframe\">\n",
       "  <thead>\n",
       "    <tr style=\"text-align: right;\">\n",
       "      <th></th>\n",
       "      <th>제목</th>\n",
       "      <th>가수</th>\n",
       "      <th>가사</th>\n",
       "    </tr>\n",
       "  </thead>\n",
       "  <tbody>\n",
       "    <tr>\n",
       "      <th>0</th>\n",
       "      <td>Aqua Man</td>\n",
       "      <td>빈지노 (Beenzino)</td>\n",
       "      <td>어항속에 갇힌 고기들보다어쩌면 내가 좀 더멍청할지 몰라너가 먹이처럼 던진문자 몇 통...</td>\n",
       "    </tr>\n",
       "    <tr>\n",
       "      <th>1</th>\n",
       "      <td>Nike Shoes (Feat. Dynamic Duo)</td>\n",
       "      <td>빈지노 (Beenzino)</td>\n",
       "      <td>Nikes on her feet make my love completeNikes o...</td>\n",
       "    </tr>\n",
       "    <tr>\n",
       "      <th>2</th>\n",
       "      <td>진절머리 (Feat. Okasian &amp; Dok2)</td>\n",
       "      <td>빈지노 (Beenzino)</td>\n",
       "      <td>음악의 템포를낮춰줘야 할 때가 온 것 같애나는 그만 싸울래계속해서pedal to t...</td>\n",
       "    </tr>\n",
       "    <tr>\n",
       "      <th>3</th>\n",
       "      <td>Boogie On &amp; On</td>\n",
       "      <td>빈지노 (Beenzino)</td>\n",
       "      <td>난 괜찮아내일 아침에 소파 위에 시체가되어 이름 모르는 너와 어색한사이가 되어도I ...</td>\n",
       "    </tr>\n",
       "    <tr>\n",
       "      <th>4</th>\n",
       "      <td>Aqua Man</td>\n",
       "      <td>빈지노 (Beenzino)</td>\n",
       "      <td>어항 속에 갇힌고기들보다어쩌면 내가 좀 더멍청할지 몰라너가 먹이처럼 던진문자 몇 통...</td>\n",
       "    </tr>\n",
       "    <tr>\n",
       "      <th>5</th>\n",
       "      <td>Summer Madness (Feat. The Quiett)</td>\n",
       "      <td>빈지노 (Beenzino)</td>\n",
       "      <td>EMPTY</td>\n",
       "    </tr>\n",
       "    <tr>\n",
       "      <th>6</th>\n",
       "      <td>I'll Be Back</td>\n",
       "      <td>빈지노 (Beenzino)</td>\n",
       "      <td>EMPTY</td>\n",
       "    </tr>\n",
       "    <tr>\n",
       "      <th>7</th>\n",
       "      <td>Profile (Feat. The Quiett &amp; Dok2)</td>\n",
       "      <td>빈지노 (Beenzino)</td>\n",
       "      <td>EMPTY</td>\n",
       "    </tr>\n",
       "    <tr>\n",
       "      <th>8</th>\n",
       "      <td>If I Die Tomorrow</td>\n",
       "      <td>빈지노 (Beenzino)</td>\n",
       "      <td>오늘 밤이 만약 내게 주어진돛대와 같다면what should I do with th...</td>\n",
       "    </tr>\n",
       "    <tr>\n",
       "      <th>9</th>\n",
       "      <td>(Bonus Track) Always Awake</td>\n",
       "      <td>빈지노 (Beenzino)</td>\n",
       "      <td>SAY YOUNGYOUNGSAY YOUNGYOUNG서울시가 잠이 든 시간에아무 말 ...</td>\n",
       "    </tr>\n",
       "    <tr>\n",
       "      <th>10</th>\n",
       "      <td>진절머리 (Feat. Okasian &amp; Dok2)</td>\n",
       "      <td>빈지노 (Beenzino)</td>\n",
       "      <td>음악의 템포를낮춰줘야 할 때가 온 것 같애나는 그만 싸울래계속해서pedal to t...</td>\n",
       "    </tr>\n",
       "    <tr>\n",
       "      <th>11</th>\n",
       "      <td>I'll Be Back</td>\n",
       "      <td>빈지노 (Beenzino)</td>\n",
       "      <td>EMPTY</td>\n",
       "    </tr>\n",
       "    <tr>\n",
       "      <th>12</th>\n",
       "      <td>Speech 04. (Relation)</td>\n",
       "      <td>Lonely Hearts Club, 빈지노 (Beenzino)</td>\n",
       "      <td>Yeah I don`t wanna be aloneYeah naver leave me...</td>\n",
       "    </tr>\n",
       "    <tr>\n",
       "      <th>13</th>\n",
       "      <td>Illionaire Way</td>\n",
       "      <td>The Quiett, Dok2, 빈지노 (Beenzino)</td>\n",
       "      <td>The hottest rap label in this motherfuckin hou...</td>\n",
       "    </tr>\n",
       "  </tbody>\n",
       "</table>\n",
       "</div>"
      ],
      "text/plain": [
       "                                   제목                                  가수  \\\n",
       "0                            Aqua Man                      빈지노 (Beenzino)   \n",
       "1      Nike Shoes (Feat. Dynamic Duo)                      빈지노 (Beenzino)   \n",
       "2         진절머리 (Feat. Okasian & Dok2)                      빈지노 (Beenzino)   \n",
       "3                      Boogie On & On                      빈지노 (Beenzino)   \n",
       "4                            Aqua Man                      빈지노 (Beenzino)   \n",
       "5   Summer Madness (Feat. The Quiett)                      빈지노 (Beenzino)   \n",
       "6                        I'll Be Back                      빈지노 (Beenzino)   \n",
       "7   Profile (Feat. The Quiett & Dok2)                      빈지노 (Beenzino)   \n",
       "8                   If I Die Tomorrow                      빈지노 (Beenzino)   \n",
       "9          (Bonus Track) Always Awake                      빈지노 (Beenzino)   \n",
       "10        진절머리 (Feat. Okasian & Dok2)                      빈지노 (Beenzino)   \n",
       "11                       I'll Be Back                      빈지노 (Beenzino)   \n",
       "12              Speech 04. (Relation)  Lonely Hearts Club, 빈지노 (Beenzino)   \n",
       "13                     Illionaire Way    The Quiett, Dok2, 빈지노 (Beenzino)   \n",
       "\n",
       "                                                   가사  \n",
       "0   어항속에 갇힌 고기들보다어쩌면 내가 좀 더멍청할지 몰라너가 먹이처럼 던진문자 몇 통...  \n",
       "1   Nikes on her feet make my love completeNikes o...  \n",
       "2   음악의 템포를낮춰줘야 할 때가 온 것 같애나는 그만 싸울래계속해서pedal to t...  \n",
       "3   난 괜찮아내일 아침에 소파 위에 시체가되어 이름 모르는 너와 어색한사이가 되어도I ...  \n",
       "4   어항 속에 갇힌고기들보다어쩌면 내가 좀 더멍청할지 몰라너가 먹이처럼 던진문자 몇 통...  \n",
       "5                                               EMPTY  \n",
       "6                                               EMPTY  \n",
       "7                                               EMPTY  \n",
       "8   오늘 밤이 만약 내게 주어진돛대와 같다면what should I do with th...  \n",
       "9   SAY YOUNGYOUNGSAY YOUNGYOUNG서울시가 잠이 든 시간에아무 말 ...  \n",
       "10  음악의 템포를낮춰줘야 할 때가 온 것 같애나는 그만 싸울래계속해서pedal to t...  \n",
       "11                                              EMPTY  \n",
       "12  Yeah I don`t wanna be aloneYeah naver leave me...  \n",
       "13  The hottest rap label in this motherfuckin hou...  "
      ]
     },
     "execution_count": 169,
     "metadata": {},
     "output_type": "execute_result"
    }
   ],
   "source": [
    "df2"
   ]
  },
  {
   "cell_type": "code",
   "execution_count": 170,
   "metadata": {
    "scrolled": true
   },
   "outputs": [],
   "source": [
    "new_df=[]\n",
    "new_df=pd.concat([df1,df2])\n",
    "new_df=new_df.reset_index()\n",
    "new_df=new_df.drop(['index'],axis=1)\n",
    "new_df.to_csv(\"빈지노_lyrics.tsv\", sep = \"\\t\", encoding='utf-8')"
   ]
  }
 ],
 "metadata": {
  "kernelspec": {
   "display_name": "web-crawling",
   "language": "python",
   "name": "web-crawling"
  },
  "language_info": {
   "codemirror_mode": {
    "name": "ipython",
    "version": 3
   },
   "file_extension": ".py",
   "mimetype": "text/x-python",
   "name": "python",
   "nbconvert_exporter": "python",
   "pygments_lexer": "ipython3",
   "version": "3.8.8"
  }
 },
 "nbformat": 4,
 "nbformat_minor": 4
}
